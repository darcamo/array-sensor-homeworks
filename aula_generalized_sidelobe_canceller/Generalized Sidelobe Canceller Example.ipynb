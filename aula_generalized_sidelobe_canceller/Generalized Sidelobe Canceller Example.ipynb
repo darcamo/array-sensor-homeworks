{
 "cells": [
  {
   "cell_type": "code",
   "execution_count": 141,
   "metadata": {
    "collapsed": true
   },
   "outputs": [],
   "source": [
    "import numpy as np\n",
    "from numpy.linalg import inv, norm, svd, eig"
   ]
  },
  {
   "cell_type": "code",
   "execution_count": 142,
   "metadata": {
    "collapsed": true
   },
   "outputs": [],
   "source": [
    "def calc_a_phi_vect(M, phi):\n",
    "    return np.exp(1j * np.arange(M)[:, np.newaxis] * phi)"
   ]
  },
  {
   "cell_type": "code",
   "execution_count": 143,
   "metadata": {
    "collapsed": true
   },
   "outputs": [],
   "source": [
    "def calcProjectionMatrix(A):\n",
    "    # MATLAB version: A/(A'*A)*A';\n",
    "    A_H = A.conj().T\n",
    "    return A @ np.linalg.inv(A_H @ A) @ (A_H)\n",
    "\n",
    "def calcOProjectionMatrix(A):\n",
    "    \"\"\"Compute the orthogonal projection matrix\"\"\"\n",
    "    M = A.shape[0]\n",
    "    return np.eye(M) - calcProjectionMatrix(A)\n",
    "\n",
    "def calcCa(C):\n",
    "    K = C.shape[1]\n",
    "    Coproj = calcOProjectionMatrix(C)\n",
    "    Ca = Coproj[:,K:]\n",
    "    return Ca"
   ]
  },
  {
   "cell_type": "code",
   "execution_count": 144,
   "metadata": {
    "collapsed": false
   },
   "outputs": [],
   "source": [
    "N = 1000\n",
    "M = 12\n",
    "\n",
    "K = 2  # Number of desired wavefronts\n",
    "\n",
    "\n",
    "desired_angles = np.pi * np.array([30, 70]) / 180.0  # Size is \"K\"\n",
    "undesired_angles = np.pi * np.array([-20, 45]) / 180.0  # 2 interfering wavefronts\n",
    "\n",
    "data = np.sign(np.random.randn(K, N))\n",
    "interfering_data = np.sign(np.random.randn(2, N))"
   ]
  },
  {
   "cell_type": "code",
   "execution_count": 145,
   "metadata": {
    "collapsed": false
   },
   "outputs": [],
   "source": [
    "desired_steering_vec = calc_a_phi_vect(12,desired_angles)\n",
    "undesired_steering_vec = calc_a_phi_vect(12,undesired_angles)"
   ]
  },
  {
   "cell_type": "code",
   "execution_count": 174,
   "metadata": {
    "collapsed": false
   },
   "outputs": [],
   "source": [
    "received_data = desired_steering_vec @ data + undesired_steering_vec @ interfering_data\n",
    "\n",
    "C = desired_steering_vec\n",
    "Ca = calcCa(C)\n",
    "g = np.ones(K)\n",
    "\n",
    "# Covariance matrix of the received Data\n",
    "Ruu = received_data @ received_data.T.conj()\n",
    "Rxx = Ca_H @ Ruu @ Ca"
   ]
  },
  {
   "cell_type": "code",
   "execution_count": 165,
   "metadata": {
    "collapsed": false
   },
   "outputs": [
    {
     "name": "stdout",
     "output_type": "stream",
     "text": [
      "[-0.00203094-0.00235202j  0.01453807+0.00235202j]\n",
      "[ 0.0731188-0.01182944j  0.0731188+0.01182944j]\n"
     ]
    }
   ],
   "source": [
    "Ca_H = Ca.conj().T\n",
    "C_H = C.conj().T\n",
    "\n",
    "U = np.hstack([C, Ca])\n",
    "\n",
    "v = inv(C_H @ C) @ g\n",
    "wq = C @ v\n",
    "\n",
    "#inv(C_H@C)@v\n",
    "\n",
    "#(C_H @ Ca).round(2)\n",
    "#(C @ v).round(2)\n",
    "wopt = (1 - Ca @ inv(Ca_H @ Ruu @ Ca) @ Ca_H @ Ruu) @ C @ inv(C_H @ C) @ g\n",
    "wopt2 = inv(Ruu) @ C @ inv(C_H @ inv(Ruu) @ C) @ g\n",
    "\n",
    "#np.abs((C_H @ wopt))\n",
    "\n",
    "q = inv(U) @ wopt\n",
    "print(q[:2])\n",
    "print(v)\n",
    "#print(q[2:])"
   ]
  },
  {
   "cell_type": "code",
   "execution_count": 152,
   "metadata": {
    "collapsed": false
   },
   "outputs": [
    {
     "data": {
      "text/plain": [
       "array([ 0.92900805+0.55977992j,  0.39734199+0.3618499j ,\n",
       "        0.64675496-0.97536141j, -0.06434083+0.08027274j,\n",
       "       -0.47159180+0.34249413j,  0.54239964+0.95066064j,\n",
       "        0.71080194-0.24796977j,  0.64541609+0.47539545j,\n",
       "       -0.06441817-0.33409048j,  1.99344819-0.2914294j ,\n",
       "       -1.55874332-0.58599089j,  0.90306113+1.34142446j])"
      ]
     },
     "execution_count": 152,
     "metadata": {},
     "output_type": "execute_result"
    }
   ],
   "source": [
    "wopt"
   ]
  },
  {
   "cell_type": "code",
   "execution_count": 153,
   "metadata": {
    "collapsed": false
   },
   "outputs": [
    {
     "data": {
      "text/plain": [
       "array([ 3.23589381+0.19184278j, -5.93077466-2.66245171j,\n",
       "        4.53494067+2.99782854j, -2.21905443-1.42926953j,\n",
       "        0.09824917+1.32244509j,  1.14594842-1.35834658j,\n",
       "       -1.17742539-0.36821036j, -0.19090051+1.07213583j,\n",
       "        0.03471576-0.28989741j,  0.18508210+0.02060899j,\n",
       "        0.97164570-0.26677502j, -0.59852982-0.52179425j])"
      ]
     },
     "execution_count": 153,
     "metadata": {},
     "output_type": "execute_result"
    }
   ],
   "source": [
    "wopt2"
   ]
  },
  {
   "cell_type": "code",
   "execution_count": 176,
   "metadata": {
    "collapsed": false
   },
   "outputs": [],
   "source": [
    "Px = Ca_H @ Ruu @ wq\n",
    "wa = inv(Rxx) @ Px"
   ]
  },
  {
   "cell_type": "code",
   "execution_count": 180,
   "metadata": {
    "collapsed": false
   },
   "outputs": [
    {
     "data": {
      "text/plain": [
       "(1000,)"
      ]
     },
     "execution_count": 180,
     "metadata": {},
     "output_type": "execute_result"
    }
   ],
   "source": [
    "dn = wq.conj().T @ received_data\n",
    "error = dn - wa.conj().T @ Ca_H @ received_data\n",
    "error.shape"
   ]
  }
 ],
 "metadata": {
  "hide_input": false,
  "kernelspec": {
   "display_name": "IPython (Python 3)",
   "language": "python",
   "name": "python3"
  },
  "language_info": {
   "codemirror_mode": {
    "name": "ipython",
    "version": 3
   },
   "file_extension": ".py",
   "mimetype": "text/x-python",
   "name": "python",
   "nbconvert_exporter": "python",
   "pygments_lexer": "ipython3",
   "version": "3.5.0+"
  },
  "nav_menu": {},
  "toc": {
   "navigate_menu": true,
   "number_sections": true,
   "sideBar": true,
   "threshold": 6,
   "toc_cell": false,
   "toc_section_display": "block",
   "toc_window_display": false
  }
 },
 "nbformat": 4,
 "nbformat_minor": 1
}
