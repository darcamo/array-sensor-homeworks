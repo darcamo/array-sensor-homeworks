{
 "cells": [
  {
   "cell_type": "code",
   "execution_count": 1,
   "metadata": {
    "collapsed": true
   },
   "outputs": [],
   "source": [
    "%matplotlib notebook\n",
    "import numpy as np\n",
    "from sympy import *\n",
    "#from sympy.abc import a,b\n",
    "init_printing()\n",
    "import math\n",
    "from sympy.printing.theanocode import theano_function\n",
    "from matplotlib import pyplot as plt\n",
    "from pyphysim.util.misc import randn_c\n"
   ]
  },
  {
   "cell_type": "code",
   "execution_count": 3,
   "metadata": {
    "collapsed": true
   },
   "outputs": [],
   "source": [
    "def lms(w0, u, d, s):\n",
    "    \"\"\"\n",
    "    Find the LMS filter coefficients.\n",
    "\n",
    "    Parameters\n",
    "    ----------\n",
    "    w0 : np.ndarray\n",
    "        Init weight vector with M taps. Dimension: (M,)\n",
    "    u : np.ndarray\n",
    "        Input data vector. Dimension: (N,)\n",
    "    d : Desired Output data vector. Dimension: (N,)\n",
    "    s : Step size.\n",
    "    \"\"\"\n",
    "    N = u.size\n",
    "    M = w0.size\n",
    "    w = w0\n",
    "    x = np.zeros_like(w0)\n",
    "    for k in range(N):\n",
    "        x = np.hstack([u[k], x[:-1]])\n",
    "        ek = d[k] - w.conj() @ x\n",
    "        dw = s * ek.conj() * x\n",
    "        w = w + dw\n",
    "\n",
    "    return w\n"
   ]
  },
  {
   "cell_type": "code",
   "execution_count": 24,
   "metadata": {
    "collapsed": false
   },
   "outputs": [],
   "source": [
    "pilots = np.array(\n",
    "    [-1, -1, -1, +1, +1, -1, -1, -1, +1, +1, +1, +1, -1, +1, +1, -1, +1, -1])\n",
    "N = pilots.size\n",
    "M = 6  # Number of filter coefficients\n",
    "Lh = 2  # Channel memory\n",
    "# Lp = pilots.size  # Number of trainning symbols\n",
    "LD = 150  # Number of data symbols\n",
    "LG = Lh + M  # Number of transmitted zeroes (guard interval)\n",
    "\n",
    "# Canal\n",
    "h = np.array([4, -5])  # A channel with 2 taps\n",
    "\n",
    "w0 = np.zeros(M)\n",
    "d = pilots\n",
    "step = 0.0015\n",
    "\n",
    "\n",
    "\n",
    "# Transmit pilots through the channel\n",
    "u = np.convolve(pilots, h)[:N]  # Don't include elements after we finished transmission\n",
    "\n",
    "# Fild filter coefficients using LMS algorithm\n",
    "w = lms(w0, u, pilots, step)\n",
    "\n",
    "#tilde_pilots = np.convolve(w.conj(),u)\n",
    "\n",
    "\n",
    "\n",
    "data_points = 1-2*np.random.randint(0,2,LD)\n",
    "guard_interval = np.zeros(LG)"
   ]
  },
  {
   "cell_type": "code",
   "execution_count": 33,
   "metadata": {
    "collapsed": false
   },
   "outputs": [
    {
     "ename": "SyntaxError",
     "evalue": "invalid syntax (<ipython-input-33-b578247acca8>, line 4)",
     "output_type": "error",
     "traceback": [
      "\u001b[0;36m  File \u001b[0;32m\"<ipython-input-33-b578247acca8>\"\u001b[0;36m, line \u001b[0;32m4\u001b[0m\n\u001b[0;31m    for d in frame_data\u001b[0m\n\u001b[0m                       ^\u001b[0m\n\u001b[0;31mSyntaxError\u001b[0m\u001b[0;31m:\u001b[0m invalid syntax\n"
     ]
    }
   ],
   "source": [
    "# Transmit one frame\n",
    "frame_data = np.hstack([pilots, data_points, guard_interval])\n",
    "\n",
    "\n",
    "out = 0\n",
    "for i in range(N):\n",
    "    \n"
   ]
  }
 ],
 "metadata": {
  "hide_input": false,
  "kernelspec": {
   "display_name": "IPython (Python 3)",
   "language": "python",
   "name": "python3"
  },
  "language_info": {
   "codemirror_mode": {
    "name": "ipython",
    "version": 3
   },
   "file_extension": ".py",
   "mimetype": "text/x-python",
   "name": "python",
   "nbconvert_exporter": "python",
   "pygments_lexer": "ipython3",
   "version": "3.5.0+"
  },
  "nav_menu": {},
  "toc": {
   "navigate_menu": true,
   "number_sections": true,
   "sideBar": true,
   "threshold": 6,
   "toc_cell": false,
   "toc_section_display": "block",
   "toc_window_display": false
  }
 },
 "nbformat": 4,
 "nbformat_minor": 1
}
